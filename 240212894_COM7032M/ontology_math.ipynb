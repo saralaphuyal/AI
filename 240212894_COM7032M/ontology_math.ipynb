{
 "cells": [
  {
   "cell_type": "code",
   "execution_count": null,
   "id": "41927b72-c1ac-4e3f-8458-154aee996bca",
   "metadata": {},
   "outputs": [],
   "source": [
    "import tkinter as tk\n",
    "from tkinter import messagebox\n",
    "from rdflib import Graph\n",
    "import math"
   ]
  },
  {
   "cell_type": "markdown",
   "id": "07028c7f-a463-4c92-9ffe-6a16140d078e",
   "metadata": {},
   "source": [
    "## Load the ontology"
   ]
  },
  {
   "cell_type": "code",
   "execution_count": null,
   "id": "97a14ea0-9a88-4ad0-823b-d133f614729d",
   "metadata": {},
   "outputs": [],
   "source": [
    "\n",
    "def load_ontology(file_path):\n",
    "    g = Graph()\n",
    "    g.parse(file_path)\n",
    "    return g\n"
   ]
  },
  {
   "cell_type": "markdown",
   "id": "3303a035-f1cf-45a9-98a3-9787a64bb217",
   "metadata": {},
   "source": [
    "## Fetch all the classes from the ontology"
   ]
  },
  {
   "cell_type": "code",
   "execution_count": null,
   "id": "cee2d501-e33c-45a4-8ba5-fc623821bb09",
   "metadata": {},
   "outputs": [],
   "source": [
    "\n",
    "def get_all_classes(graph):\n",
    "    query = \"\"\"\n",
    "    SELECT DISTINCT ?class\n",
    "    WHERE {\n",
    "        ?class rdf:type/rdfs:subClassOf* owl:Class .\n",
    "    }\n",
    "    \"\"\"\n",
    "    result = graph.query(query)\n",
    "    return [str(row[0]).split('#')[-1] for row in result]"
   ]
  },
  {
   "cell_type": "markdown",
   "id": "b9363743-c1b9-4742-8397-7dbb1b44a102",
   "metadata": {},
   "source": [
    "## Calculate the area of a rectangle"
   ]
  },
  {
   "cell_type": "code",
   "execution_count": null,
   "id": "9349f61d-e109-4f42-a14e-337123fdbd57",
   "metadata": {},
   "outputs": [],
   "source": [
    "\n",
    "def calculate_rectangle_area(base, height):\n",
    "    try:\n",
    "        return float(base) * float(height)\n",
    "    except ValueError:\n",
    "        messagebox.showerror(\"Input Error\", \"Please enter valid numbers.\")\n",
    "        return None"
   ]
  },
  {
   "cell_type": "markdown",
   "id": "9d8ff2cf-02e0-44ac-b87d-d7fed139a05d",
   "metadata": {},
   "source": [
    "## Calculate the area of a square"
   ]
  },
  {
   "cell_type": "code",
   "execution_count": null,
   "id": "4ee38a64-e5f5-4220-8043-740b6095f456",
   "metadata": {},
   "outputs": [],
   "source": [
    "\n",
    "def calculate_square_area(side):\n",
    "    try:\n",
    "        return float(side) ** 2\n",
    "    except ValueError:\n",
    "        messagebox.showerror(\"Input Error\", \"Please enter a valid number.\")\n",
    "        return None\n"
   ]
  },
  {
   "cell_type": "markdown",
   "id": "fa6ed949-6d53-4611-aaac-0f55adaa1ae8",
   "metadata": {},
   "source": [
    "## Calculate the area of a triangle"
   ]
  },
  {
   "cell_type": "code",
   "execution_count": null,
   "id": "642c70d5-2f68-4b78-96d8-e4ad9a57120b",
   "metadata": {},
   "outputs": [],
   "source": [
    "\n",
    "def calculate_triangle_area(base, height):\n",
    "    try:\n",
    "        return 0.5 * float(base) * float(height)\n",
    "    except ValueError:\n",
    "        messagebox.showerror(\"Input Error\", \"Please enter valid numbers.\")\n",
    "        return None"
   ]
  },
  {
   "cell_type": "markdown",
   "id": "2ad5cc1c-0488-4d5a-81aa-01d22e54baca",
   "metadata": {},
   "source": [
    "## GUI for the application"
   ]
  },
  {
   "cell_type": "code",
   "execution_count": 13,
   "id": "c1d83309",
   "metadata": {},
   "outputs": [],
   "source": [
    "\n",
    "class MathLearningGUI:\n",
    "    def __init__(self, root, ontology_file):\n",
    "        self.root = root\n",
    "        self.root.title(\"Math Learning and Area Calculator\")\n",
    "        self.root.configure(bg='#add8e6')  # Light Blue background\n",
    "\n",
    "        # Load ontology and fetch classes\n",
    "        self.graph = load_ontology(ontology_file)\n",
    "        self.classes = get_all_classes(self.graph)\n",
    "\n",
    "        # Ontology Classes Section\n",
    "        self.classes_frame = tk.Frame(root, bg='#e0f7fa')\n",
    "        self.classes_frame.pack(pady=20, fill=\"both\", expand=True)\n",
    "\n",
    "        self.classes_label = tk.Label(self.classes_frame, text=\"Ontology Classes\", font=(\"Arial\", 14, \"bold\"), fg='#006400', bg='#e0f7fa')\n",
    "        self.classes_label.pack()\n",
    "\n",
    "        self.classes_listbox = tk.Listbox(self.classes_frame, selectmode=tk.SINGLE, height=10, width=30, bg='#ffffff', highlightbackground='#00b140')\n",
    "        for item in self.classes:\n",
    "            self.classes_listbox.insert(tk.END, item)\n",
    "        self.classes_listbox.pack()\n",
    "\n",
    "        # Area Calculation Section\n",
    "        self.area_frame = tk.Frame(root, bg='#fff9c4')\n",
    "        self.area_frame.pack(pady=20, fill=\"both\", expand=True)\n",
    "\n",
    "        self.area_label = tk.Label(self.area_frame, text=\"Area Calculator\", font=(\"Arial\", 14, \"bold\"), fg='#ff6f00', bg='#fff9c4')\n",
    "        self.area_label.pack()\n",
    "\n",
    "        self.shape_label = tk.Label(self.area_frame, text=\"Select Shape:\", fg='#ff6f00', bg='#fff9c4')\n",
    "        self.shape_label.pack()\n",
    "\n",
    "        self.shape_var = tk.StringVar(value=\"Rectangle\")\n",
    "        self.shape_menu = tk.OptionMenu(self.area_frame, self.shape_var, \"Rectangle\", \"Square\", \"Triangle\")\n",
    "        self.shape_menu.pack()\n",
    "\n",
    "        self.base_label = tk.Label(self.area_frame, text=\"Base:\", fg='#ff6f00', bg='#fff9c4')\n",
    "        self.base_label.pack()\n",
    "\n",
    "        self.base_entry = tk.Entry(self.area_frame, bg='#ffffff', highlightbackground='#2196f3')\n",
    "        self.base_entry.pack()\n",
    "\n",
    "        self.height_label = tk.Label(self.area_frame, text=\"Height:\", fg='#ff6f00', bg='#fff9c4')\n",
    "        self.height_label.pack()\n",
    "\n",
    "        self.height_entry = tk.Entry(self.area_frame, bg='#ffffff', highlightbackground='#2196f3')\n",
    "        self.height_entry.pack()\n",
    "\n",
    "        self.side_label = tk.Label(self.area_frame, text=\"Side:\", fg='#ff6f00', bg='#fff9c4')\n",
    "        self.side_label.pack()\n",
    "\n",
    "        self.side_entry = tk.Entry(self.area_frame, bg='#ffffff', highlightbackground='#2196f3')\n",
    "        self.side_entry.pack()\n",
    "\n",
    "        # Calculate Button\n",
    "        self.calculate_button = tk.Button(root, text=\"Calculate Area\", command=self.calculate_area, bg='#2196f3', fg='#ffffff')\n",
    "        self.calculate_button.pack(pady=10)\n",
    "\n",
    "        # Exit Button\n",
    "        self.exit_button = tk.Button(root, text=\"Exit\", command=root.quit, bg='#1976d2', fg='#ffffff')\n",
    "        self.exit_button.pack(pady=10)\n",
    "\n",
    "    def calculate_area(self):\n",
    "        shape = self.shape_var.get()\n",
    "\n",
    "        if shape == \"Rectangle\":\n",
    "            base = self.base_entry.get()\n",
    "            height = self.height_entry.get()\n",
    "            area = calculate_rectangle_area(base, height)\n",
    "            if area is not None:\n",
    "                messagebox.showinfo(\"Area\", f\"The area of the rectangle is: {area}\")\n",
    "\n",
    "        elif shape == \"Square\":\n",
    "            side = self.side_entry.get()\n",
    "            area = calculate_square_area(side)\n",
    "            if area is not None:\n",
    "                messagebox.showinfo(\"Area\", f\"The area of the square is: {area}\")\n",
    "\n",
    "        elif shape == \"Triangle\":\n",
    "            base = self.base_entry.get()\n",
    "            height = self.height_entry.get()\n",
    "            area = calculate_triangle_area(base, height)\n",
    "            if area is not None:\n",
    "                messagebox.showinfo(\"Area\", f\"The area of the triangle is: {area}\")\n",
    "\n",
    "\n",
    "if __name__ == \"__main__\":\n",
    "    ontology_file = \"ontologyl.owl\"  # Provide the path to your ontology file\n",
    "    root = tk.Tk()\n",
    "    gui = MathLearningGUI(root, ontology_file)\n",
    "    root.mainloop()\n"
   ]
  },
  {
   "cell_type": "code",
   "execution_count": null,
   "id": "1eeca352-2825-4599-b1da-bcfaaa850c17",
   "metadata": {},
   "outputs": [],
   "source": []
  }
 ],
 "metadata": {
  "kernelspec": {
   "display_name": "Python 3 (ipykernel)",
   "language": "python",
   "name": "python3"
  },
  "language_info": {
   "codemirror_mode": {
    "name": "ipython",
    "version": 3
   },
   "file_extension": ".py",
   "mimetype": "text/x-python",
   "name": "python",
   "nbconvert_exporter": "python",
   "pygments_lexer": "ipython3",
   "version": "3.12.7"
  }
 },
 "nbformat": 4,
 "nbformat_minor": 5
}
